{
  "nbformat": 4,
  "nbformat_minor": 0,
  "metadata": {
    "colab": {
      "provenance": []
    },
    "kernelspec": {
      "name": "python3",
      "display_name": "Python 3"
    },
    "language_info": {
      "name": "python"
    }
  },
  "cells": [
    {
      "cell_type": "code",
      "execution_count": null,
      "metadata": {
        "id": "zI451j4lwly8"
      },
      "outputs": [],
      "source": [
        "# Introdução a Ciência de Dados, Algumas Ferramentas e Instalações"
      ]
    },
    {
      "cell_type": "markdown",
      "source": [
        "# Ciência de Dados\n",
        "A ciência de dados é um campo interdisciplinar que combina métodos, técnicas e ferramentas de estatística, matemática, ciência da computação e domínio do assunto para extrair conhecimento e insights a partir de grandes conjuntos de dados. Ela está relacionada com alguns pontos:\n",
        "\n",
        "\n",
        "1.   Coleta\n",
        "2.   Processamento\n",
        "3.   Análise\n",
        "4.   Interpretação de Dados\n",
        "\n",
        "Para uma análise desses dados e ambiente simplificado temos a linguagem de programação Python como dominante. O Python é amplamente utilizado nesse campo e tem se tornado uma das linguagens mais populares para análise de dados, devido à sua facilidade de uso, sua ampla comunidade de desenvolvedores e uma grande quantidade de bibliotecas especializadas. A seguir teremos algumas coisas sobre instalação e bibliotecas especiais utilizadas na Ciência de Dados:\n",
        " # Python\n",
        " **Instalação: https://python.org.br/instalacao-windows/**\n",
        "\n",
        "\n",
        "*   Após ser direcionado por esse link, a opção \"Download\" vai estar disponível,\n",
        " de acordo com as propriedades e sistema da sua máquina.\n",
        "*   Durante a instalação, você pode escolher opções adicionais, como adicionar o Python ao PATH do sistema (recomendado) e instalar bibliotecas adicionais. Certifique-se de selecionar essas opções para facilitar o uso posterior do Python.\n",
        "*   Após a conclusão da instalação, você pode abrir o prompt de comando (no Windows, use o \"Prompt de Comando\" ou \"PowerShell\") ou o terminal (no macOS e no Linux) e digitar \"python\" para verificar se a instalação foi bem-sucedida. Você verá a versão do Python sendo exibida.\n",
        "\n",
        "**Uso do Python (Introdução):**\n",
        "\n",
        "**Entrada e saída:**\n",
        "\n",
        "Entrada (input) é o processo de receber dados ou informações de um usuário ou de outra fonte externa ao programa. Normalmente, a entrada é fornecida pelo usuário através do teclado ou de um arquivo de entrada. No Python, a função input() é usada para receber a entrada do usuário pelo teclado.\n",
        "\n",
        "Saída (output) é o processo de exibir os resultados ou informações processadas pelo programa para o usuário ou para outro destino externo. Normalmente, a saída é exibida no console ou gravada em um arquivo de saída. No Python, a função print() é usada para exibir informações no console.\n",
        "\n",
        "Usando entrada e saída:"
      ],
      "metadata": {
        "id": "mBF1WQVpw0HX"
      }
    },
    {
      "cell_type": "code",
      "source": [
        "#Exemplo de Entrada:\n",
        "nome = input(\"Digite seu nome: \")\n",
        "print(\"Olá, \" + nome + \"! Bem-vindo.\")\n"
      ],
      "metadata": {
        "colab": {
          "base_uri": "https://localhost:8080/"
        },
        "id": "Z-5xmsUJFiFP",
        "outputId": "35a52d69-68b0-4140-97c8-9e89f87006e7"
      },
      "execution_count": null,
      "outputs": [
        {
          "output_type": "stream",
          "name": "stdout",
          "text": [
            "Digite seu nome: João\n",
            "Olá, João! Bem-vindo.\n"
          ]
        }
      ]
    },
    {
      "cell_type": "code",
      "source": [
        "#Exemplo de Saída:\n",
        "resultado = 42\n",
        "print(\"O resultado é:\", resultado)\n"
      ],
      "metadata": {
        "colab": {
          "base_uri": "https://localhost:8080/"
        },
        "id": "D3LU38PcFzcU",
        "outputId": "1f53d3f9-56bd-4384-806c-677db576787a"
      },
      "execution_count": null,
      "outputs": [
        {
          "output_type": "stream",
          "name": "stdout",
          "text": [
            "O resultado é: 42\n"
          ]
        }
      ]
    },
    {
      "cell_type": "markdown",
      "source": [
        "**Condicional:**\n",
        "\n",
        "As estruturas condicionais permitem que você execute diferentes blocos de código com base em condições específicas. No Python, a estrutura condicional mais comum é o \"if-else\" (se-senão). Por exemplo:"
      ],
      "metadata": {
        "id": "U66zoE4gGAy3"
      }
    },
    {
      "cell_type": "code",
      "source": [
        "idade = 20\n",
        "\n",
        "if idade >= 18:\n",
        "    print(\"Você é maior de idade.\")\n",
        "else:\n",
        "    print(\"Você é menor de idade.\")\n"
      ],
      "metadata": {
        "id": "ewNlFp2FHmvE"
      },
      "execution_count": null,
      "outputs": []
    },
    {
      "cell_type": "markdown",
      "source": [
        "Além do \"if-else\", também existe a estrutura \"if-elif-else\" (se-senão se-senão). Ela permite testar várias condições em sequência. Por exemplo:"
      ],
      "metadata": {
        "id": "PRprn4iSHtL-"
      }
    },
    {
      "cell_type": "code",
      "source": [
        "nota = 75\n",
        "\n",
        "if nota >= 90:\n",
        "    print(\"Sua nota é A.\")\n",
        "elif nota >= 80:\n",
        "    print(\"Sua nota é B.\")\n",
        "elif nota >= 70:\n",
        "    print(\"Sua nota é C.\")\n",
        "else:\n",
        "    print(\"Sua nota é D.\")\n"
      ],
      "metadata": {
        "id": "McNOQvr7H994"
      },
      "execution_count": null,
      "outputs": []
    },
    {
      "cell_type": "markdown",
      "source": [
        "Repetição:\n",
        "As estruturas de repetição permitem que você execute um bloco de código várias vezes. No Python, as principais estruturas de repetição são \"while\" (enquanto) e \"for\" (para).\n",
        "\n",
        "O \"while\" executa um bloco de código enquanto uma condição específica for verdadeira. Por exemplo:"
      ],
      "metadata": {
        "id": "KDpn65vTICTT"
      }
    },
    {
      "cell_type": "code",
      "source": [
        "contador = 0\n",
        "\n",
        "while contador < 5:\n",
        "    print(\"Contagem:\", contador)\n",
        "    contador += 1\n"
      ],
      "metadata": {
        "id": "lU0JnoCqIHhe"
      },
      "execution_count": null,
      "outputs": []
    },
    {
      "cell_type": "markdown",
      "source": [
        "O \"for\" é usado para iterar sobre uma sequência (como uma lista, tupla ou string) ou para repetir um número específico de vezes. Por exemplo:"
      ],
      "metadata": {
        "id": "dax7qVi2IZzg"
      }
    },
    {
      "cell_type": "code",
      "source": [
        "nomes = [\"João\", \"Maria\", \"Pedro\"]\n",
        "\n",
        "for nome in nomes:\n",
        "    print(\"Olá,\", nome)\n"
      ],
      "metadata": {
        "id": "N_ZctlkzIeZt"
      },
      "execution_count": null,
      "outputs": []
    },
    {
      "cell_type": "markdown",
      "source": [
        "**Funções**\n",
        "\n",
        "Assim como nas variáveis, nós precisamos dizer qual o tipo do retorno de uma função. Uso do def:"
      ],
      "metadata": {
        "id": "kKkRcaL5IrCT"
      }
    },
    {
      "cell_type": "code",
      "source": [
        "def saudacao(nome):\n",
        "    print(\"Olá,\", nome)\n",
        "\n",
        "# Chamando a função\n",
        "saudacao(\"João\")\n"
      ],
      "metadata": {
        "id": "43rQ1hkMIxqd"
      },
      "execution_count": null,
      "outputs": []
    },
    {
      "cell_type": "markdown",
      "source": [
        "As funções também podem ter um valor de retorno usando a palavra-chave return. O valor retornado pode ser utilizado em outras partes do programa. Por exemplo:"
      ],
      "metadata": {
        "id": "fCEz6bmgI0x9"
      }
    },
    {
      "cell_type": "code",
      "source": [
        "def soma(a, b):\n",
        "    resultado = a + b\n",
        "    return resultado\n",
        "\n",
        "# Chamando a função e atribuindo o valor de retorno a uma variável\n",
        "resultado_soma = soma(4, 3)\n",
        "print(\"Resultado da soma:\", resultado_soma)\n"
      ],
      "metadata": {
        "colab": {
          "base_uri": "https://localhost:8080/"
        },
        "id": "HFzqNJsWI5Fx",
        "outputId": "3ec159a3-d7a2-4cf7-aaea-907afb5ee029"
      },
      "execution_count": null,
      "outputs": [
        {
          "output_type": "stream",
          "name": "stdout",
          "text": [
            "Resultado da soma: 7\n"
          ]
        }
      ]
    },
    {
      "cell_type": "markdown",
      "source": [
        "Essas são apenas algumas coisas bem básicas do Python!\n",
        "\n",
        "**Uso Anaconda:**\n",
        "\n",
        "O Anaconda é uma plataforma de ciência de dados e análise numérica que fornece um ambiente de desenvolvimento integrado (IDE) para programação em Python. Ele inclui uma distribuição do Python, juntamente com uma coleção de pacotes populares usados para análise de dados, aprendizado de máquina, visualização e processamento de grandes conjuntos de dados.\n",
        "\n",
        "O Anaconda permite que os usuários gerenciem facilmente os pacotes e as dependências necessárias para seus projetos de ciência de dados. Ele inclui o Conda, um gerenciador de pacotes de código aberto que facilita a instalação, atualização e remoção de pacotes. Com o Conda, é possível criar ambientes virtuais isolados para projetos específicos, o que permite ter configurações e versões de pacotes personalizadas para cada projeto.\n",
        "\n",
        "Além disso, o Anaconda também fornece uma interface gráfica chamada Anaconda Navigator, que facilita o acesso e o gerenciamento dos pacotes instalados, ambientes virtuais, IDEs e outros recursos.\n",
        "\n",
        "Em resumo, o Anaconda é um ambiente completo para ciência de dados e programação em Python, que facilita a instalação e o gerenciamento de pacotes, além de oferecer ferramentas para desenvolvimento e análise de dados.\n",
        "\n",
        "**Download:**\n",
        "\n",
        "*   Acesse o site oficial do Anaconda em https://www.anaconda.com/products/individual.\n",
        "\n",
        "*   Na página inicial, você verá duas opções: \"Individual Edition\" e \"Team Edition\". Se você estiver baixando o Anaconda para uso pessoal, escolha a opção \"Individual Edition\".\n",
        "\n",
        "*   Role a página para baixo até encontrar as versões disponíveis para download. Selecione a versão adequada para o seu sistema operacional (Windows, macOS ou Linux).\n",
        "\n",
        "*   Clique no botão de download para iniciar o download do instalador do Anaconda.\n",
        "\n",
        "*   Após o download ser concluído, execute o instalador.\n",
        "\n",
        "*   Siga as instruções do instalador. Você pode aceitar as configurações padrão ou personalizar o local de instalação, mas é recomendado aceitar as opções padrão se você não tiver necessidades específicas.\n",
        "\n",
        "*   Durante a instalação, você será solicitado a ler e concordar com os termos de licença. Após concordar com os termos, prossiga com a instalação.\n",
        "\n",
        "*   Ao finalizar a instalação, você terá a opção de iniciar o Anaconda Navigator, que é uma interface gráfica para gerenciar seus ambientes e pacotes.\n",
        "\n",
        "**Manipulação**\n",
        "\n",
        "Algumas das bibliotecas mais utilizadas em ciência de dados em Python incluem:\n",
        "\n",
        "*   NumPy: fornece suporte para arrays e operações matemáticas de alto desempenho.\n",
        "\n",
        "*   Pandas: oferece estruturas de dados e ferramentas de análise de dados de alto nível.\n",
        "\n",
        "\n",
        "\n",
        "Essas bibliotecas fornecem funcionalidades poderosas para manipulação de dados, análise estatística, visualização e construção de modelos de aprendizado de máquina. O Python, juntamente com essas bibliotecas, permite que os cientistas de dados desenvolvam soluções sofisticadas para problemas de análise e interpretação de dados.\n",
        "\n",
        "**Armazenamento**\n",
        "\n",
        "Existem várias formas de datar os dados desenvolvidos no processo da Ciência de Dados, porém assim como o Python temos um tipo predominante para esse armazenamento: **A linguagem SQL (Structured Query Language)**. Ela desempenha um papel importante na ciência de dados, especialmente quando se trata de trabalhar com bancos de dados relacionais. Embora a maioria das pessoas associe o SQL principalmente a atividades de gerenciamento de banco de dados, ele também é amplamente utilizado na área de ciência de dados para acessar, extrair, manipular e analisar dados.\n",
        "\n",
        "**Considerações Finais**\n",
        "\n",
        "A ciência de dados é de extrema importância, pois permite extrair conhecimentos e insights valiosos a partir de grandes conjuntos de dados. Esses insights podem ser utilizados para tomar decisões informadas, solucionar problemas complexos, identificar oportunidades de negócio, melhorar processos e prever tendências futuras. Com a crescente disponibilidade de dados em diversas áreas, a ciência de dados desempenha um papel crucial na obtenção de vantagens competitivas e no avanço do conhecimento em várias indústrias e campos de pesquisa.\n",
        "\n",
        "# Bibliografia\n",
        "\n",
        "*   McKinney, Wes. Python for Data Analysis: Data Wrangling with Pandas, NumPy, and IPython. O'Reilly Media. 1ª Ed., 2012.\n",
        "\n",
        "*   The Data Science Handbook: Advice and Insights from 25 Amazing Data Scientists”, de Carl Shan, William Chen, Henry Wang e Max Song\n",
        "\n",
        "**Sites**\n",
        "\n",
        "\n",
        "*   https://www.oracle.com/br/what-is-data-science/\n",
        "*   https://www.python.org/\n",
        "*   https://blog.betrybe.com/sql/\n",
        "\n",
        "\n",
        "**Cursos**\n",
        "\n",
        ">https://app.datacamp.com/\n",
        "\n",
        "*   Introduction to Python\n",
        "*   Understanding Data Science - DataCamp Learn\n",
        "*   Data Manipulation with pandas\n",
        "\n",
        "**Vídeos**\n",
        "\n",
        "*   https://youtu.be/hQayuyeEMy0\n",
        "*   https://youtu.be/F608hzn_ygo\n"
      ],
      "metadata": {
        "id": "flkpP9SkI8KZ"
      }
    }
  ]
}