{
  "nbformat": 4,
  "nbformat_minor": 0,
  "metadata": {
    "colab": {
      "provenance": []
    },
    "kernelspec": {
      "name": "python3",
      "display_name": "Python 3"
    },
    "language_info": {
      "name": "python"
    }
  },
  "cells": [
    {
      "cell_type": "code",
      "execution_count": 1,
      "metadata": {
        "id": "zI451j4lwly8"
      },
      "outputs": [],
      "source": [
        "# Introdução a Ciência de Dados, Algumas Ferramentas e Instalações"
      ]
    },
    {
      "cell_type": "markdown",
      "source": [
        "# Ciência de Dados\n",
        "A ciência de dados é um campo interdisciplinar que combina métodos, técnicas e ferramentas de estatística, matemática, ciência da computação e domínio do assunto para extrair conhecimento e insights a partir de grandes conjuntos de dados. Ela está relacionada com alguns pontos:\n",
        "\n",
        "\n",
        "1.   Coleta\n",
        "2.   Processamento\n",
        "3.   Análise\n",
        "4.   Interpretação de Dados\n",
        "\n",
        "Para uma análise desses dados e ambiente simplificado temos a linguagem de programação Python como dominante. O Python é amplamente utilizado nesse campo e tem se tornado uma das linguagens mais populares para análise de dados, devido à sua facilidade de uso, sua ampla comunidade de desenvolvedores e uma grande quantidade de bibliotecas especializadas. A seguir teremos algumas coisas sobre instalação e bibliotecas especiais utilizadas na Ciência de Dados:\n",
        " # Python\n",
        " **Instalação: https://www.python.org/**\n",
        "\n",
        "\n",
        "\n",
        "*   Após ser direcionado por esse link, a opção \"Download\" vai estar disponível,\n",
        " de acordo com as propriedades e sistema da sua máquina.\n",
        "*   Durante a instalação, você pode escolher opções adicionais, como adicionar o Python ao PATH do sistema (recomendado) e instalar bibliotecas adicionais. Certifique-se de selecionar essas opções para facilitar o uso posterior do Python.\n",
        "*   Após a conclusão da instalação, você pode abrir o prompt de comando (no Windows, use o \"Prompt de Comando\" ou \"PowerShell\") ou o terminal (no macOS e no Linux) e digitar \"python\" para verificar se a instalação foi bem-sucedida. Você verá a versão do Python sendo exibida.\n",
        "\n",
        "\n",
        "\n",
        "**Manipulação**\n",
        "\n",
        "Algumas das bibliotecas mais utilizadas em ciência de dados em Python incluem:\n",
        "\n",
        "*   NumPy: fornece suporte para arrays e operações matemáticas de alto desempenho.\n",
        "\n",
        "*   Pandas: oferece estruturas de dados e ferramentas de análise de dados de alto nível.\n",
        "\n",
        "\n",
        "\n",
        "Essas bibliotecas fornecem funcionalidades poderosas para manipulação de dados, análise estatística, visualização e construção de modelos de aprendizado de máquina. O Python, juntamente com essas bibliotecas, permite que os cientistas de dados desenvolvam soluções sofisticadas para problemas de análise e interpretação de dados.\n",
        "\n",
        "**Armazenamento**\n",
        "\n",
        "Existem várias formas de datar os dados desenvolvidos no processo da Ciência de Dados, porém assim como o Python temos um tipo predominante para esse armazenamento: **A linguagem SQL (Structured Query Language)**. Ela desempenha um papel importante na ciência de dados, especialmente quando se trata de trabalhar com bancos de dados relacionais. Embora a maioria das pessoas associe o SQL principalmente a atividades de gerenciamento de banco de dados, ele também é amplamente utilizado na área de ciência de dados para acessar, extrair, manipular e analisar dados.\n",
        "\n",
        "**Considerações Finais**\n",
        "\n",
        "A ciência de dados é de extrema importância, pois permite extrair conhecimentos e insights valiosos a partir de grandes conjuntos de dados. Esses insights podem ser utilizados para tomar decisões informadas, solucionar problemas complexos, identificar oportunidades de negócio, melhorar processos e prever tendências futuras. Com a crescente disponibilidade de dados em diversas áreas, a ciência de dados desempenha um papel crucial na obtenção de vantagens competitivas e no avanço do conhecimento em várias indústrias e campos de pesquisa.\n",
        "\n",
        "# Bibliografia\n",
        "\n",
        "*   McKinney, Wes. Python for Data Analysis: Data Wrangling with Pandas, NumPy, and IPython. O'Reilly Media. 1ª Ed., 2012.\n",
        "\n",
        "*   The Data Science Handbook: Advice and Insights from 25 Amazing Data Scientists”, de Carl Shan, William Chen, Henry Wang e Max Song\n",
        "\n",
        "**Sites**\n",
        "\n",
        "\n",
        "*   https://www.oracle.com/br/what-is-data-science/\n",
        "*   https://www.python.org/\n",
        "*   https://blog.betrybe.com/sql/\n",
        "\n",
        "\n",
        "**Cursos**\n",
        "\n",
        ">https://app.datacamp.com/\n",
        "\n",
        "*   Introduction to Python\n",
        "*   Understanding Data Science - DataCamp Learn\n",
        "*   Data Manipulation with pandas\n",
        "\n",
        "**Vídeos**\n",
        "\n",
        "*   https://youtu.be/hQayuyeEMy0\n",
        "*   https://youtu.be/F608hzn_ygo\n"
      ],
      "metadata": {
        "id": "mBF1WQVpw0HX"
      }
    }
  ]
}