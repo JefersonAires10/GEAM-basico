{
 "cells": [
  {
   "cell_type": "markdown",
   "id": "dc9a1d49",
   "metadata": {},
   "source": [
    "# Introdução a Regressão Linear\n",
    "***"
   ]
  },
  {
   "cell_type": "markdown",
   "id": "1f3ced0d",
   "metadata": {},
   "source": [
    "O modelo de Regressão Linear é bastante usado na área de Aprendizado de Máquinas (Machine Learning). Portanto, aprenderemos um pouco sobre. E para isso, precisamos primeiro entender algumas coisas."
   ]
  },
  {
   "cell_type": "markdown",
   "id": "cdda055c",
   "metadata": {},
   "source": [
    "## O que é uma Correlação?"
   ]
  },
  {
   "cell_type": "markdown",
   "id": "16a71bd2",
   "metadata": {},
   "source": [
    "Uma correlação é quando temos duas ou mais variáveis, divididas em dependentes e independentes, que interagem entre si, ou seja, se temos x e y, considerando que $y = x$, o y irá variar sempre que x variar, logo podemos afirmar que trata-se de uma Correlação, onde y é a variável dependente e x a independente. Ademais, existem dois tipos de correlações, sendo elas, diretamente e inversamente proporcional. A Correlação diretamente proporcional é quando ambas as variáveis seguem no mesmo sentido, ou seja, se o x aumentar/diminuir o y também irá. Já Correlação inversamente proporcional é quando as variáveis não seguem no mesmo sentido, ou seja, se x aumenta o y irá diminuir."
   ]
  },
  {
   "cell_type": "markdown",
   "id": "e42ddff5",
   "metadata": {},
   "source": [
    "## O que é uma Regressão?"
   ]
  },
  {
   "cell_type": "markdown",
   "id": "88dad38a",
   "metadata": {},
   "source": [
    "Uma regressão é nada mais do que uma técnica para quantificar uma correlação por meio de uma equação, ou seja, simplesmente analisamos os valores da correlação para obter informações para poder predizer dados futuros."
   ]
  },
  {
   "cell_type": "markdown",
   "id": "ed4576cf",
   "metadata": {},
   "source": [
    "## O que é uma Regressão Linear?"
   ]
  },
  {
   "cell_type": "markdown",
   "id": "aadee771",
   "metadata": {},
   "source": [
    "Basicamente, podemos definir Regressão Linear como um algoritmo de Aprendizado de Máquinas (Machine Learning) que é usado para fazer predições. Além do mais, pode-se afirmar que é um dos modelos mais simples que existem. Também podemos definir uma Regressão Linear com a formula matemática abaixo."
   ]
  },
  {
   "cell_type": "markdown",
   "id": "32136196",
   "metadata": {},
   "source": [
    "<h1 align=\"center\">$y=ax+b$</h1>"
   ]
  },
  {
   "cell_type": "markdown",
   "id": "48a37582",
   "metadata": {},
   "source": [
    "$y$ = Variável dependente<br>\n",
    "$a$ = Coeficiente angular<br>\n",
    "$x$ = Variável independente<br>\n",
    "$b$ = Coeficiente linear"
   ]
  },
  {
   "cell_type": "markdown",
   "id": "66e00ca1",
   "metadata": {},
   "source": [
    "### Quando usar o modelo de Regressão Linear?"
   ]
  },
  {
   "cell_type": "markdown",
   "id": "ae9f69d9",
   "metadata": {},
   "source": [
    "Este modelo é usando quando trabalhamos com valores quantitativos, ou seja, do tipo <code>**numeric**</code>. "
   ]
  },
  {
   "cell_type": "markdown",
   "id": "7bffe75b",
   "metadata": {},
   "source": [
    "## Exemplo de Regressão Linear"
   ]
  },
  {
   "cell_type": "markdown",
   "id": "972d39eb",
   "metadata": {},
   "source": [
    "![gráfico](https://github.com/ciencia-de-dados-pratica/GEAM-basico/blob/master/2021/marcus-introdu%C3%A7%C3%A3o_a_regress%C3%A3o_linear/img/graficoRL.png)"
   ]
  },
  {
   "cell_type": "markdown",
   "id": "9d5782ca",
   "metadata": {},
   "source": [
    "## Achando a reta"
   ]
  },
  {
   "cell_type": "markdown",
   "id": "7cb05016",
   "metadata": {},
   "source": [
    "### Equações"
   ]
  },
  {
   "cell_type": "markdown",
   "id": "d46edb3c",
   "metadata": {},
   "source": [
    "<h1 align=\"center\">$a=\\dfrac{\\sum^{n}_{i=1}(x_i - \\overline x)(y_i - \\overline y)}{\\sum^{n}_{i=1}(x_i - \\overline x)^2}$</h1>"
   ]
  },
  {
   "cell_type": "markdown",
   "id": "a14ec537",
   "metadata": {},
   "source": [
    "<h1 align=\"center\">$b=\\overline y - a \\overline x$</h1>"
   ]
  },
  {
   "cell_type": "markdown",
   "id": "35edfd34",
   "metadata": {},
   "source": [
    "Para achar a função da reta, vamos usar as equações acima para achar os coeficientes angular e linear. Contudo, temos que importar as bibliotecas e o dataset de valores que iremos trabalhar."
   ]
  },
  {
   "cell_type": "code",
   "execution_count": 1,
   "id": "095d8e13",
   "metadata": {},
   "outputs": [],
   "source": [
    "# importando as bibliotecas\n",
    "import numpy as np\n",
    "import pandas as pd\n",
    "import matplotlib.pyplot as plt"
   ]
  },
  {
   "cell_type": "code",
   "execution_count": 2,
   "id": "2f3ff5fa",
   "metadata": {},
   "outputs": [],
   "source": [
    "# Lendo o dataset\n",
    "rl = pd.read_csv('Datasets/RLdados.csv')"
   ]
  },
  {
   "cell_type": "markdown",
   "id": "52c9a6b9",
   "metadata": {},
   "source": [
    "Depois que atribuímos o Dataset a variável <code>rl</code>, vamos conferir se está tudo certo."
   ]
  },
  {
   "cell_type": "code",
   "execution_count": 3,
   "id": "5a385c71",
   "metadata": {
    "scrolled": false
   },
   "outputs": [
    {
     "data": {
      "text/html": [
       "<div>\n",
       "<style scoped>\n",
       "    .dataframe tbody tr th:only-of-type {\n",
       "        vertical-align: middle;\n",
       "    }\n",
       "\n",
       "    .dataframe tbody tr th {\n",
       "        vertical-align: top;\n",
       "    }\n",
       "\n",
       "    .dataframe thead th {\n",
       "        text-align: right;\n",
       "    }\n",
       "</style>\n",
       "<table border=\"1\" class=\"dataframe\">\n",
       "  <thead>\n",
       "    <tr style=\"text-align: right;\">\n",
       "      <th></th>\n",
       "      <th>X</th>\n",
       "      <th>Y</th>\n",
       "    </tr>\n",
       "  </thead>\n",
       "  <tbody>\n",
       "    <tr>\n",
       "      <th>0</th>\n",
       "      <td>0.00000</td>\n",
       "      <td>-11.656137</td>\n",
       "    </tr>\n",
       "    <tr>\n",
       "      <th>1</th>\n",
       "      <td>0.10101</td>\n",
       "      <td>-8.074456</td>\n",
       "    </tr>\n",
       "    <tr>\n",
       "      <th>2</th>\n",
       "      <td>0.20202</td>\n",
       "      <td>-16.588246</td>\n",
       "    </tr>\n",
       "    <tr>\n",
       "      <th>3</th>\n",
       "      <td>0.30303</td>\n",
       "      <td>-4.275013</td>\n",
       "    </tr>\n",
       "    <tr>\n",
       "      <th>4</th>\n",
       "      <td>0.40404</td>\n",
       "      <td>-8.714275</td>\n",
       "    </tr>\n",
       "  </tbody>\n",
       "</table>\n",
       "</div>"
      ],
      "text/plain": [
       "         X          Y\n",
       "0  0.00000 -11.656137\n",
       "1  0.10101  -8.074456\n",
       "2  0.20202 -16.588246\n",
       "3  0.30303  -4.275013\n",
       "4  0.40404  -8.714275"
      ]
     },
     "execution_count": 3,
     "metadata": {},
     "output_type": "execute_result"
    }
   ],
   "source": [
    "# Conferindo as primeiras 5 linhas\n",
    "rl.head()"
   ]
  },
  {
   "cell_type": "code",
   "execution_count": 4,
   "id": "94f4a80c",
   "metadata": {
    "scrolled": true
   },
   "outputs": [
    {
     "data": {
      "text/html": [
       "<div>\n",
       "<style scoped>\n",
       "    .dataframe tbody tr th:only-of-type {\n",
       "        vertical-align: middle;\n",
       "    }\n",
       "\n",
       "    .dataframe tbody tr th {\n",
       "        vertical-align: top;\n",
       "    }\n",
       "\n",
       "    .dataframe thead th {\n",
       "        text-align: right;\n",
       "    }\n",
       "</style>\n",
       "<table border=\"1\" class=\"dataframe\">\n",
       "  <thead>\n",
       "    <tr style=\"text-align: right;\">\n",
       "      <th></th>\n",
       "      <th>X</th>\n",
       "      <th>Y</th>\n",
       "    </tr>\n",
       "  </thead>\n",
       "  <tbody>\n",
       "    <tr>\n",
       "      <th>95</th>\n",
       "      <td>9.59596</td>\n",
       "      <td>18.291748</td>\n",
       "    </tr>\n",
       "    <tr>\n",
       "      <th>96</th>\n",
       "      <td>9.69697</td>\n",
       "      <td>24.354372</td>\n",
       "    </tr>\n",
       "    <tr>\n",
       "      <th>97</th>\n",
       "      <td>9.79798</td>\n",
       "      <td>27.522162</td>\n",
       "    </tr>\n",
       "    <tr>\n",
       "      <th>98</th>\n",
       "      <td>9.89899</td>\n",
       "      <td>19.852582</td>\n",
       "    </tr>\n",
       "    <tr>\n",
       "      <th>99</th>\n",
       "      <td>10.00000</td>\n",
       "      <td>25.334343</td>\n",
       "    </tr>\n",
       "  </tbody>\n",
       "</table>\n",
       "</div>"
      ],
      "text/plain": [
       "           X          Y\n",
       "95   9.59596  18.291748\n",
       "96   9.69697  24.354372\n",
       "97   9.79798  27.522162\n",
       "98   9.89899  19.852582\n",
       "99  10.00000  25.334343"
      ]
     },
     "execution_count": 4,
     "metadata": {},
     "output_type": "execute_result"
    }
   ],
   "source": [
    "# Conferindo as últimas 5 linhas\n",
    "rl.tail()"
   ]
  },
  {
   "cell_type": "markdown",
   "id": "8c45397a",
   "metadata": {},
   "source": [
    "Agora vamos definir as variaveis x e y como as colunas X e Y."
   ]
  },
  {
   "cell_type": "code",
   "execution_count": 6,
   "id": "b0f5273e",
   "metadata": {},
   "outputs": [],
   "source": [
    "x = rl['X'].values\n",
    "y = rl['Y'].values"
   ]
  },
  {
   "cell_type": "markdown",
   "id": "e44137ca",
   "metadata": {},
   "source": [
    "Após definir x e y, vamos fazer uma visualização por meio de um Scatter Plot (Gráfico de Dispersão)."
   ]
  },
  {
   "cell_type": "code",
   "execution_count": 7,
   "id": "f886dcf8",
   "metadata": {
    "scrolled": false
   },
   "outputs": [
    {
     "data": {
      "image/png": "[encoded data removed]",
      "text/plain": [
       "<Figure size 432x288 with 1 Axes>"
      ]
     },
     "metadata": {
      "needs_background": "light"
     },
     "output_type": "display_data"
    }
   ],
   "source": [
    "plt.scatter(x,y,label='f(x)');\n",
    "plt.ylabel('Y');\n",
    "plt.xlabel('X');\n",
    "plt.legend();"
   ]
  },
  {
   "cell_type": "markdown",
   "id": "cb9430de",
   "metadata": {},
   "source": [
    "Agora vamos iniciar os cálculos para achar os coeficientes."
   ]
  },
  {
   "cell_type": "code",
   "execution_count": 8,
   "id": "fa98c3d4",
   "metadata": {},
   "outputs": [],
   "source": [
    "# Calculando as médias\n",
    "xMedia = np.mean(x)\n",
    "yMedia = np.mean(y)"
   ]
  },
  {
   "cell_type": "code",
   "execution_count": 9,
   "id": "f83fc38a",
   "metadata": {},
   "outputs": [],
   "source": [
    "# Calculando os erros\n",
    "xErro = x - xMedia\n",
    "yErro = y - yMedia"
   ]
  },
  {
   "cell_type": "code",
   "execution_count": 10,
   "id": "b28a2a24",
   "metadata": {
    "scrolled": false
   },
   "outputs": [],
   "source": [
    "# Calculando a soma do produto de xErro e yErro\n",
    "xySomaErro = np.sum(xErro * yErro)"
   ]
  },
  {
   "cell_type": "code",
   "execution_count": 11,
   "id": "5a948c64",
   "metadata": {},
   "outputs": [],
   "source": [
    "# Calculando o erro quadrático\n",
    "xErroQuad = (x - xMedia)**2"
   ]
  },
  {
   "cell_type": "code",
   "execution_count": 12,
   "id": "ae4846ed",
   "metadata": {},
   "outputs": [],
   "source": [
    "# Calculando a soma do erro quadrático\n",
    "xSomaErroQuad = np.sum(xErroQuad)"
   ]
  },
  {
   "cell_type": "code",
   "execution_count": 13,
   "id": "0f0ab785",
   "metadata": {},
   "outputs": [],
   "source": [
    "# Definindo o coeficiente angular a\n",
    "a = xySomaErro / xSomaErroQuad"
   ]
  },
  {
   "cell_type": "code",
   "execution_count": 14,
   "id": "ca379f73",
   "metadata": {},
   "outputs": [],
   "source": [
    "# Definindo o coeficiente linear b\n",
    "b = yMedia - (a * xMedia)"
   ]
  },
  {
   "cell_type": "code",
   "execution_count": 15,
   "id": "b9163466",
   "metadata": {},
   "outputs": [
    {
     "name": "stdout",
     "output_type": "stream",
     "text": [
      "O coefciente angular é 3.51 e o coefciente linear é -11.11\n"
     ]
    }
   ],
   "source": [
    "print(f\"O coefciente angular é {a:.2f} e o coefciente linear é {b:.2f}\")"
   ]
  },
  {
   "cell_type": "markdown",
   "id": "183d482e",
   "metadata": {},
   "source": [
    "Agora que sabemos os coeficientes, podemos achar a função da reta."
   ]
  },
  {
   "cell_type": "markdown",
   "id": "4f4e7a75",
   "metadata": {},
   "source": [
    "<h1 align=\"center\">$y=3.51x - 11.11$</h1>"
   ]
  },
  {
   "cell_type": "markdown",
   "id": "e76fa942",
   "metadata": {},
   "source": [
    "Por fim, iremos traçar essa reta no Scatter Plot (Gráfico de Dispersão)."
   ]
  },
  {
   "cell_type": "code",
   "execution_count": 16,
   "id": "570f362c",
   "metadata": {},
   "outputs": [],
   "source": [
    "fx = (a*x) + b"
   ]
  },
  {
   "cell_type": "code",
   "execution_count": 17,
   "id": "db657ddb",
   "metadata": {},
   "outputs": [
    {
     "data": {
      "image/png": "[encoded data removed]",
      "text/plain": [
       "<Figure size 432x288 with 1 Axes>"
      ]
     },
     "metadata": {
      "needs_background": "light"
     },
     "output_type": "display_data"
    }
   ],
   "source": [
    "plt.scatter(x, y, label = 'f(x)');\n",
    "plt.plot(x, fx, label= 'Ajuste Linear', color= 'red');\n",
    "plt.ylabel('Y');\n",
    "plt.xlabel('X');\n",
    "plt.legend();"
   ]
  },
  {
   "cell_type": "markdown",
   "id": "8bd30f9b",
   "metadata": {},
   "source": [
    "## Referências"
   ]
  },
  {
   "cell_type": "markdown",
   "id": "507b3f72",
   "metadata": {},
   "source": [
    "Responde Ai: <a>https://www.respondeai.com.br/conteudo/probabilidade-e-estatistica/estatistica/regressao-linear/1226</a><br>\n",
    "Minitab: <a>https://blog.minitab.com/pt/analise-de-regressao-como-interpretar-o-r-quadrado-e-avaliar-a-qualidade-de-ajuste</a><br>\n",
    "Machine Learning Mastery: <a>https://machinelearningmastery.com/simple-linear-regression-tutorial-for-machine-learning/</a><br>\n",
    "Data hackers: <a>https://medium.com/data-hackers/como-funciona-uma-regressão-linear-f7208fa6c662</a><br>\n",
    "Wikipedia: <a>https://pt.wikipedia.org/wiki/Regressão_linear</a><br>\n",
    "ProfDanilo_DS: <a>https://www.youtube.com/watch?v=F5duO69SEWA</a><br>"
   ]
  }
 ],
 "metadata": {
  "kernelspec": {
   "display_name": "Python 3",
   "language": "python",
   "name": "python3"
  },
  "language_info": {
   "codemirror_mode": {
    "name": "ipython",
    "version": 3
   },
   "file_extension": ".py",
   "mimetype": "text/x-python",
   "name": "python",
   "nbconvert_exporter": "python",
   "pygments_lexer": "ipython3",
   "version": "3.8.8"
  }
 },
 "nbformat": 4,
 "nbformat_minor": 5
}
