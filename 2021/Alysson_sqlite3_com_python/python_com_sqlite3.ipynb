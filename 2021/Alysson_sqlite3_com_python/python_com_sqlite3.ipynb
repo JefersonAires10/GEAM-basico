{
  "nbformat": 4,
  "nbformat_minor": 0,
  "metadata": {
    "colab": {
      "name": "python com sqlite3.ipynb",
      "provenance": [],
      "collapsed_sections": []
    },
    "kernelspec": {
      "name": "python3",
      "display_name": "Python 3"
    },
    "language_info": {
      "name": "python"
    }
  },
  "cells": [
    {
      "cell_type": "markdown",
      "metadata": {
        "id": "3wDrh8LLB7DS"
      },
      "source": [
        "#SQLite com python3\n",
        " Nesse código vamos falar sobre os conceitos de conexão com SQLite usando o python3.\n",
        "\n",
        "\n",
        " O SQLite é uma biblioteca da Linguagem de programação C no qual fornece um banco de dados bem leve  que não requer um processo de algum servidor separado, e também permite acessar o banco de dados através de uma variante não padrão \n",
        "da linguagem de consulta SQL. Ele é uma boa alternativa para se implementar um BD rápido, leve e bem eficiente, principalmente para projetos que precisam fazer testes rápidos ou algo do tipo.\n",
        "\n",
        "\n",
        " O módulo sqlite3 que iremos usar para nesse texto \n",
        " foi escrito por Gerhard Häring, no qual fornece uma interface SQL que é compatível com o DB-API 2.0 descrita por PEP 249, criado em\n",
        " \t29/Mar/2001 por Marc-André Lemburg.\n"
      ]
    },
    {
      "cell_type": "markdown",
      "metadata": {
        "id": "yaz2BoTPB6Az"
      },
      "source": [
        "Nesse texto vamos usar um banco de dados colocando no disco para facilitar os nossos exemplos. Você também pode criar um BD na memória RAM, fique a vontade!\n",
        "\n",
        "Você também pode fornecer o nome especial :memory: para criar um banco de dados na RAM."
      ]
    },
    {
      "cell_type": "code",
      "metadata": {
        "id": "W60H3Qf1dy6Q"
      },
      "source": [
        "\n"
      ],
      "execution_count": null,
      "outputs": []
    },
    {
      "cell_type": "code",
      "metadata": {
        "id": "fYnwZg-FgMlu"
      },
      "source": [
        "import sqlite3\n",
        "# conexao_BD = sqlite3.connect(':memory:') # na memória RAM\n",
        "conexao_BD = sqlite3.connect('example_data.db') # fora da memória RAM\n",
        "\n",
        "cur = conexao_BD.cursor()\n"
      ],
      "execution_count": 2,
      "outputs": []
    },
    {
      "cell_type": "markdown",
      "metadata": {
        "id": "qwCu0oi5FX2w"
      },
      "source": [
        "\n",
        "Depois de ter um Connection, você pode criar um Cursor objeto e chamar seu método execute() para executar comandos SQL:\n"
      ]
    },
    {
      "cell_type": "code",
      "metadata": {
        "id": "DCM9WLAHit4I"
      },
      "source": [
        "\n",
        "\n",
        "cur = conexao_BD.cursor()\n",
        "\n",
        "# Criar uma tabela\n",
        "\n",
        "cur.execute(\n",
        "   '''CREATE TABLE pessoa\n",
        "             (nome varchar(50), sobrenome varchar(50), email varchar(35), telefone varchar(14));''')\n",
        "\n",
        "# Inserir dados na tabela criada\n",
        "cur.execute(''' INSERT INTO pessoa(nome, sobrenome, email, telefone) VALUES \n",
        "('Alysson','Araújo','alyssoncontatoaraujo@contato.com','(88)1235-4567'), \n",
        "('Jefferson','Andrade','contatojefferson@contato.net','(88)2764-4264'),\n",
        "('Carlos','Eduardo', 'carloseeduardo@contato.com','(88)8726-4378') ''')\n",
        "\n",
        "# Salvar (commit) e enviar a modificações e scripts no banco.\n",
        "conexao_BD.commit()\n",
        "\n",
        "# Após fazer isso, podemos fechar o banco de dados. Usamos o método close():\n",
        "# conexao_BD.close()"
      ],
      "execution_count": 3,
      "outputs": []
    },
    {
      "cell_type": "code",
      "metadata": {
        "id": "aN5iwrM-FEUu"
      },
      "source": [
        "# outro exemplo de insert:\n",
        "cur = conexao_BD.cursor()\n",
        "cur.execute('''INSERT INTO pessoa(nome, sobrenome, email, telefone) VALUES ('Marília','Texeira','mariliatexe@gmaiuil.com','(88)3474-5446')''')\n",
        "cur.close()\n"
      ],
      "execution_count": 4,
      "outputs": []
    },
    {
      "cell_type": "markdown",
      "metadata": {
        "id": "TCTzghXzHCvU"
      },
      "source": [
        " As formas de fazer consultas no BD é semelhante às outas linguagens, porém o python simplifica bastante o código, facilitando seu entendimento e deixando o código mais limpo.\n",
        "\n",
        "Para fazer isso precisamos o objeto cursor para usar os métodos SQL, assim como a criação de tabelas, views, etc.., manipulação e comunicação com o bd. \n",
        "\n",
        "Colocamos o retorno do método cursor() em uma variável chamada cur.\n"
      ]
    },
    {
      "cell_type": "code",
      "metadata": {
        "id": "PuGXCIPYiyZY",
        "colab": {
          "base_uri": "https://localhost:8080/"
        },
        "outputId": "b0a20d8d-ade0-4392-ca9e-03b751e8ca35"
      },
      "source": [
        "\n",
        "cur = conexao_BD.cursor()\n",
        "\n",
        "# Executamos um script sql usando o método execute onde fazemos uma consulta de todos os dados da tabela pessoa \n",
        "# ordenada em ordem alfabética pela coluna nome.\n",
        "for dados in cur.execute('SELECT * FROM Pessoa ORDER BY nome'):\n",
        "  print(dados)\n",
        "\n",
        "print('_____________________________________________________________________')\n",
        "# Outro exemplo seria fazer uma consulta na tabela pessoa apenas nas colunas nome e telefone.\n",
        "for dados in cur.execute('SELECT nome , telefone FROM Pessoa '):\n",
        "  print(dados)\n",
        "\n",
        "print('_____________________________________________________________________')\n",
        "# Para que os nomes das colunas apareçam, você pode imprimir o nome das colunas antes de imprimir os dados das tabelas. Essa é uma forma, \n",
        "# existe outras!\n",
        "# cur.close()"
      ],
      "execution_count": 5,
      "outputs": [
        {
          "output_type": "stream",
          "text": [
            "('Alysson', 'Araújo', 'alyssoncontatoaraujo@contato.com', '(88)1235-4567')\n",
            "('Carlos', 'Eduardo', 'carloseeduardo@contato.com', '(88)8726-4378')\n",
            "('Jefferson', 'Andrade', 'contatojefferson@contato.net', '(88)2764-4264')\n",
            "('Marília', 'Texeira', 'mariliatexe@gmaiuil.com', '(88)3474-5446')\n",
            "_____________________________________________________________________\n",
            "('Alysson', '(88)1235-4567')\n",
            "('Jefferson', '(88)2764-4264')\n",
            "('Carlos', '(88)8726-4378')\n",
            "('Marília', '(88)3474-5446')\n",
            "_____________________________________________________________________\n"
          ],
          "name": "stdout"
        }
      ]
    },
    {
      "cell_type": "markdown",
      "metadata": {
        "id": "CcGn_l4EHced"
      },
      "source": [
        "Porém temos que ter cuidado ao usar algumas coisas, como por exemplo em uma situação onde queremos colocar um valor de uma variável no script\n",
        "SQL em um método do Cursor da seguinte forma: "
      ]
    },
    {
      "cell_type": "code",
      "metadata": {
        "id": "s5N2E9vuvAj7"
      },
      "source": [
        "\n",
        "cur = conexao_BD.cursor()\n",
        "nome = 'Marília'\n",
        "cur.execute(\"SELECT * FROM pessoa WHERE nome = '%s'\" % nome);\n",
        "\n",
        "# cur.close()"
      ],
      "execution_count": null,
      "outputs": []
    },
    {
      "cell_type": "markdown",
      "metadata": {
        "id": "Zel7eBogHlDw"
      },
      "source": [
        "No exemplo acima, usando operações com string do Python porque fazer isso é inseguro, podendo deixa uma grave vunerabilidade no seu programa para um ataque SQL injection, que em português é injeção de SQ, onde o invasor pode inserir uma instrução personalizda em SQL. Então, tome cuidado!\n",
        "\n",
        "Para uma melhor segurança, você pode fazer isso usando qmark style, no qual usamos a marcação '?' para dizer que aquele local será passado como parâmetro algo. Segue um exemplo abaixo:\n",
        "\n"
      ]
    },
    {
      "cell_type": "code",
      "metadata": {
        "id": "7h7P30V9ICXg"
      },
      "source": [
        "cur.execute(\"INSERT INTO Pessoa VALUES (?, ?, ?, ?)\", (\"João\",\"Almir\", \"joaoalcontato@contato.com\",\"(88)9273-4214\"))"
      ],
      "execution_count": null,
      "outputs": []
    },
    {
      "cell_type": "markdown",
      "metadata": {
        "id": "n5HhlmY6IIho"
      },
      "source": [
        "Podemos usar também com named style. Esse é um exemplo de consulta no BD usando esse estilo:"
      ]
    },
    {
      "cell_type": "code",
      "metadata": {
        "id": "Aer-_nFMIOCq"
      },
      "source": [
        "\n",
        "\n",
        "cur.execute(\"select * from pessoa where nome=:name\", {\"name\": \"Alysson\"})\n",
        "print(cur.fetchall()) # Mais na frente será explicado o fetchall()\n"
      ],
      "execution_count": null,
      "outputs": []
    },
    {
      "cell_type": "markdown",
      "metadata": {
        "id": "GHBfQVDaIa-f"
      },
      "source": [
        "### Segue agora, alguns Objetos de cursor do SQLite3:\n",
        "\n",
        "<br>\n",
        "<br>\n",
        "\n",
        "* execute( sql [ , parâmetros ] ) \n",
        "\n",
        "  Como já mostrado, o execute executa UM SCRIPT SQL como por exemplo:\n"
      ]
    },
    {
      "cell_type": "code",
      "metadata": {
        "colab": {
          "base_uri": "https://localhost:8080/"
        },
        "id": "pP4T6owRIwfU",
        "outputId": "8d2e7939-4f10-4e12-b27d-0a8a341a9b20"
      },
      "source": [
        "for dados in cur.execute('SELECT nome , telefone FROM Pessoa '):\n",
        "  print(dados)"
      ],
      "execution_count": 6,
      "outputs": [
        {
          "output_type": "stream",
          "text": [
            "('Alysson', '(88)1235-4567')\n",
            "('Jefferson', '(88)2764-4264')\n",
            "('Carlos', '(88)8726-4378')\n",
            "('Marília', '(88)3474-5446')\n"
          ],
          "name": "stdout"
        }
      ]
    },
    {
      "cell_type": "markdown",
      "metadata": {
        "id": "quroGqwMI2DZ"
      },
      "source": [
        "* executescript()\n",
        "\n",
        "  Porém com o excute, se tentarmos executar mais de um script ele irá dar um warnig. Para evitarmos isso, usamos o executescript() para executar mais de um script de uma vez. Exemplo:"
      ]
    },
    {
      "cell_type": "code",
      "metadata": {
        "id": "GXGWWqOT1e78"
      },
      "source": [
        "\n",
        "cur = conexao_BD.cursor()\n",
        "\n",
        "cur.executescript(\"\"\"Create table if not exists teste (\n",
        "  numero integer,\n",
        "  tipo text,\n",
        "  situacao text\n",
        ");\n",
        "\n",
        "INSERT INTO pessoa(nome, sobrenome, email, telefone) VALUES ('Renam','Texeira','renamttt@gmaiuil.com','(88)5624-5216')\n",
        "                     ;             \n",
        "                                  \"\"\");\n",
        "# con.close() caso queira fechar"
      ],
      "execution_count": null,
      "outputs": []
    },
    {
      "cell_type": "markdown",
      "metadata": {
        "id": "1GzKSG6gJIF0"
      },
      "source": [
        "* fetchall()\n",
        "\n",
        "  Com o fetchall(), buscamos todas as linhas (restantes) de um resultado de consulta feita anteriormente antes de ser chamado para o uso, onde ele retorna uma lista com os resultados. \n",
        "\n",
        "  Uma coisa importante a se falar é que o atributo arraysize do cursor pode afetar o desempenho desta operação, então tenha cautela com o seu uso. \n",
        "\n",
        "  Caso nenhuma linha de script SQL tiver sido feita, o fetchall() retorna uma lista vazia."
      ]
    },
    {
      "cell_type": "code",
      "metadata": {
        "id": "oe4IIbx32mSj"
      },
      "source": [
        "\n",
        "\n",
        "cur = conexao_BD.cursor()\n",
        "\n",
        "print('_____________________________________________________________________')\n",
        "\n",
        "cur.execute('SELECT nome , telefone FROM Pessoa ')\n",
        "cur.fetchall()\n",
        "\n",
        "\n",
        "\n"
      ],
      "execution_count": null,
      "outputs": []
    },
    {
      "cell_type": "markdown",
      "metadata": {
        "id": "aZ12gcT9JppD"
      },
      "source": [
        "* fetchone()\n",
        "\n",
        "  Com ele, fazemos uma busca na próxima linha de um conjunto de resultados de uma consulta feita anteriormente. por exemplo segue a seguinte consulta feita:\n",
        "~~~~\n",
        "[('Alysson', '(88)1235-4567'),\n",
        " ('Jefferson', '(88)2764-4264'),\n",
        " ('Carlos', '(88)8726-4378'),\n",
        " ('Marília', '(88)3474-5446'),\n",
        " ('João', '(88)9273-4214'),\n",
        " ('João', '(88)9273-4214'),\n",
        " ('João', '(88)9273-4214'),\n",
        " ('João', '(88)9273-4214'),\n",
        " ('Renam', '(88)5624-5216')]\n",
        "~~~~\n",
        "\n",
        "Quando chamamos fetchone() pela primeira vez, ele irá retornar [('Alysson', '(88)1235-4567')]\n",
        "\n",
        "Se fizermos isso pela segunda vez, ele retorna [('Jefferson', '(88)2764-4264')] e assim subsequente.\n",
        "\n",
        "\n",
        "Agora se você comentar o cur.execute('SELECT nome , telefone FROM Pessoa ') depois de executar essa instrução, verá que ele retornará as linhas da consulta, indo de linha em \n",
        "linha cada vez que for chamado. Comentar cur.execute('SELECT nome , telefone FROM Pessoa ') faz com que ele seja o último script sql a ser\n",
        "executado no BD que o curse está trabalhando.\n"
      ]
    },
    {
      "cell_type": "code",
      "metadata": {
        "colab": {
          "base_uri": "https://localhost:8080/"
        },
        "id": "DZral5QNKDjT",
        "outputId": "a476fdc0-a50b-4a23-9823-65198830bec3"
      },
      "source": [
        "#cur.execute('SELECT nome , telefone FROM Pessoa ')\n",
        "cur.fetchone()"
      ],
      "execution_count": 12,
      "outputs": [
        {
          "output_type": "execute_result",
          "data": {
            "text/plain": [
              "('Marília', '(88)3474-5446')"
            ]
          },
          "metadata": {
            "tags": []
          },
          "execution_count": 12
        }
      ]
    },
    {
      "cell_type": "markdown",
      "metadata": {
        "id": "F9D63IFa5iLX"
      },
      "source": [
        "Para finalizar, vou mostrar como podemos fazer acesso a colunas usando nomes em vez de índices. Para isso, vamos usar o o sqlite3.row, que é uma classe integrada na qual foi projetada para ser usada como uma forma de construir as  linhas.\n",
        "Essas linhas que são agrupadas com essa classe podem ser acessadas por índices através de tuplas, sem ter o problema do uso dos nomes das colunas com maiúsculo ou minúsculo nelas, podendo diferenciar o nome original mesmo sendo a mesma. \n",
        "\n",
        "Para isso temos o seguinte exemplo do código abaixo que demonstra o uso do Row em uma tabela. Vale lembrar que irei usar o row_factory que, de forma básica, ele consegue alterar este atributo para um chamável  no qual aceita o cursor e a linha original como uma tupla e retornará a linha de resultado real. \n",
        "\n",
        "Com isso, podemos implementar maneiras mais avançadas e sofisticadas de retornar resultados, como poder retornar um objeto que também pode acessar colunas por nome.\n"
      ]
    },
    {
      "cell_type": "code",
      "metadata": {
        "id": "oYrMrHah6QBD"
      },
      "source": [
        "import sqlite3\n",
        "\n",
        "# Dessa vez usarei a memória RAM para alocar o Banco de Dados.\n",
        "conexao_BD_memory = sqlite3.connect(\":memory:\")\n",
        "conexao_BD_memory.row_factory = sqlite3.Row\n",
        "\n",
        "cur = conexao_BD_memory.cursor()\n",
        "\n",
        "\n",
        "cur.execute(\n",
        "   '''CREATE TABLE pessoa\n",
        "             (nome varchar(50), sobrenome varchar(50), email varchar(35), telefone varchar(14));''')\n",
        "\n",
        "cur.execute(\"select 'Alysson' as nome, '(88)1235-4567' as telefone\")\n",
        "for row in cur:\n",
        "    assert row[0] == row[\"nome\"]\n",
        "    assert row[\"nome\"] == row[\"NoME\"]\n",
        "    assert row[1] == row[\"TeLEFOne\"]\n",
        "    assert row[1] == row[\"TELEFONE\"]\n",
        "\n",
        "conexao_BD_memory.close()"
      ],
      "execution_count": null,
      "outputs": []
    },
    {
      "cell_type": "markdown",
      "metadata": {
        "id": "L65OhIfsKTCn"
      },
      "source": [
        "Referências: \n",
        "\n",
        "* [DB-API 2.0 interface for SQLite databases](https://docs.python.org/pt-br/3/library/sqlite3.html)"
      ]
    }
  ]
}