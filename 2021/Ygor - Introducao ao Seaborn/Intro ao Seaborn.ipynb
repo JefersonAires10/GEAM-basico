{
 "cells": [
  {
   "cell_type": "markdown",
   "id": "fc78a19a-9f78-4639-933c-f07a63b45646",
   "metadata": {},
   "source": [
    "# Introdução ao Seaborn"
   ]
  },
  {
   "cell_type": "markdown",
   "id": "43fa735e-ffae-4476-85b9-2b724f0fe82f",
   "metadata": {},
   "source": [
    "## Instalando bibliotecas"
   ]
  },
  {
   "cell_type": "markdown",
   "id": "ae5fd75d-fa5b-4f1a-af7d-ac70f377b8ae",
   "metadata": {},
   "source": [
    "Para começar é necessário importar as bibliotecas que serão usadas."
   ]
  },
  {
   "cell_type": "markdown",
   "id": "e8d8a158-1a44-43fe-b1cf-2f854b48ddc9",
   "metadata": {},
   "source": [
    "Aqui está o site oficial para instalação do Seaborn e Pandas, respectivamente: <br>\n",
    "https://seaborn.pydata.org/installing.html\n",
    "<br>\n",
    "https://pandas.pydata.org/getting_started.html"
   ]
  },
  {
   "cell_type": "code",
   "execution_count": null,
   "id": "3c1f4a25-7039-4f9e-b67b-b78ebc346f4f",
   "metadata": {
    "tags": []
   },
   "outputs": [],
   "source": [
    "import seaborn as sns\n",
    "import pandas as pd"
   ]
  },
  {
   "cell_type": "markdown",
   "id": "4be9cc31-c878-4b7d-955c-ae9f3c564d5f",
   "metadata": {},
   "source": [
    "Caso queira usar um dataset de outra fonte, é recomendavel, usar _pandas_ para ler o arquivo e assim converter num formato usável. A biblioteca disponibiliza várias funções que\n",
    "leêm diferente tipos de arquivos, no nosso caso iremos usar _read_csv_ que ler arquivos que tem a extensão .csv"
   ]
  },
  {
   "cell_type": "markdown",
   "id": "662eddf3-2ee3-4e93-9392-aa089ca21170",
   "metadata": {},
   "source": [
    "O dataset que estou utilizando está disponivel no [kaggle](https://www.kaggle.com/tourist55/clothessizeprediction) que contém dados sobre clientes na compra de roupas."
   ]
  },
  {
   "cell_type": "code",
   "execution_count": null,
   "id": "ece79d36-6743-4582-85df-bffddea059c2",
   "metadata": {
    "tags": []
   },
   "outputs": [],
   "source": [
    "clothes = pd.read_csv(\"clothes_dataset.csv\")"
   ]
  },
  {
   "cell_type": "markdown",
   "id": "d02e97dc-e94e-4121-ba7d-96f9ace9f73a",
   "metadata": {},
   "source": [
    "Guardados esses dados em uma váriavel, iremos ver que tipos de dados tem esse dataset"
   ]
  },
  {
   "cell_type": "code",
   "execution_count": 20,
   "id": "5c74f05c-6937-4e15-a7f0-efbebb9d19e3",
   "metadata": {},
   "outputs": [
    {
     "data": {
      "text/html": [
       "<div>\n",
       "<style scoped>\n",
       "    .dataframe tbody tr th:only-of-type {\n",
       "        vertical-align: middle;\n",
       "    }\n",
       "\n",
       "    .dataframe tbody tr th {\n",
       "        vertical-align: top;\n",
       "    }\n",
       "\n",
       "    .dataframe thead th {\n",
       "        text-align: right;\n",
       "    }\n",
       "</style>\n",
       "<table border=\"1\" class=\"dataframe\">\n",
       "  <thead>\n",
       "    <tr style=\"text-align: right;\">\n",
       "      <th></th>\n",
       "      <th>weight</th>\n",
       "      <th>age</th>\n",
       "      <th>height</th>\n",
       "      <th>size</th>\n",
       "    </tr>\n",
       "  </thead>\n",
       "  <tbody>\n",
       "    <tr>\n",
       "      <th>0</th>\n",
       "      <td>62</td>\n",
       "      <td>28.0</td>\n",
       "      <td>172.72</td>\n",
       "      <td>XL</td>\n",
       "    </tr>\n",
       "    <tr>\n",
       "      <th>1</th>\n",
       "      <td>59</td>\n",
       "      <td>36.0</td>\n",
       "      <td>167.64</td>\n",
       "      <td>L</td>\n",
       "    </tr>\n",
       "    <tr>\n",
       "      <th>2</th>\n",
       "      <td>61</td>\n",
       "      <td>34.0</td>\n",
       "      <td>165.10</td>\n",
       "      <td>M</td>\n",
       "    </tr>\n",
       "    <tr>\n",
       "      <th>3</th>\n",
       "      <td>65</td>\n",
       "      <td>27.0</td>\n",
       "      <td>175.26</td>\n",
       "      <td>L</td>\n",
       "    </tr>\n",
       "    <tr>\n",
       "      <th>4</th>\n",
       "      <td>62</td>\n",
       "      <td>45.0</td>\n",
       "      <td>172.72</td>\n",
       "      <td>M</td>\n",
       "    </tr>\n",
       "  </tbody>\n",
       "</table>\n",
       "</div>"
      ],
      "text/plain": [
       "   weight   age  height size\n",
       "0      62  28.0  172.72   XL\n",
       "1      59  36.0  167.64    L\n",
       "2      61  34.0  165.10    M\n",
       "3      65  27.0  175.26    L\n",
       "4      62  45.0  172.72    M"
      ]
     },
     "execution_count": 20,
     "metadata": {},
     "output_type": "execute_result"
    }
   ],
   "source": [
    "clothes.head()"
   ]
  },
  {
   "cell_type": "markdown",
   "id": "d99eedc6-ba42-40df-8599-dab8ba6360a2",
   "metadata": {},
   "source": [
    "Agora usando o proprio Seaborn iremos construir graficos com esses dados, nu e cru sem nenhum tratamento. A biblioteca tem diversas funções que vão auxiliar de como você deseja visualizar as informações"
   ]
  },
  {
   "cell_type": "markdown",
   "id": "15729efc-d5fb-40ff-bb74-ad5012b111e5",
   "metadata": {},
   "source": [
    "Todas as funções tem uma estrutura parecida precisando da propriedade _data_ que sabe qual dataset contêm os dados, _x_ que diz quais serão os dados que irão compor a linha x, _y_ que diz quais serão os dados que irão compor a linha y"
   ]
  },
  {
   "cell_type": "markdown",
   "id": "c4d451db-c93a-4a5b-a8ec-35ee7a5f3b42",
   "metadata": {},
   "source": [
    "## Gráficos disponéveis"
   ]
  },
  {
   "cell_type": "code",
   "execution_count": 21,
   "id": "2a9c2d6b-80c3-4ff2-9895-ac452d89b786",
   "metadata": {},
   "outputs": [
    {
     "data": {
      "text/plain": [
       "<seaborn.axisgrid.FacetGrid at 0x2b28e1590a0>"
      ]
     },
     "execution_count": 21,
     "metadata": {},
     "output_type": "execute_result"
    },
    {
     "data": {
      "image/png": "[encoded data removed]",
      "text/plain": [
       "<Figure size 360x360 with 1 Axes>"
      ]
     },
     "metadata": {
      "needs_background": "light"
     },
     "output_type": "display_data"
    }
   ],
   "source": [
    "sns.relplot(data=clothes, x=\"age\", y=\"size\")"
   ]
  },
  {
   "cell_type": "code",
   "execution_count": 22,
   "id": "b52d2f2f-f9a6-4fd6-abe9-e5884db70245",
   "metadata": {},
   "outputs": [
    {
     "data": {
      "text/plain": [
       "<seaborn.axisgrid.FacetGrid at 0x2b2901b30a0>"
      ]
     },
     "execution_count": 22,
     "metadata": {},
     "output_type": "execute_result"
    },
    {
     "data": {
      "image/png": "[encoded data removed]",
      "text/plain": [
       "<Figure size 360x360 with 1 Axes>"
      ]
     },
     "metadata": {
      "needs_background": "light"
     },
     "output_type": "display_data"
    }
   ],
   "source": [
    "sns.displot(data=clothes, x=\"age\", y=\"size\")"
   ]
  },
  {
   "cell_type": "code",
   "execution_count": 23,
   "id": "f88f0f9b-c60a-409f-a331-bcbfa18fd9d1",
   "metadata": {},
   "outputs": [
    {
     "data": {
      "text/plain": [
       "<seaborn.axisgrid.FacetGrid at 0x2b290258040>"
      ]
     },
     "execution_count": 23,
     "metadata": {},
     "output_type": "execute_result"
    },
    {
     "data": {
      "image/png": "[encoded data removed]",
      "text/plain": [
       "<Figure size 360x360 with 1 Axes>"
      ]
     },
     "metadata": {
      "needs_background": "light"
     },
     "output_type": "display_data"
    }
   ],
   "source": [
    "sns.catplot(data=clothes, x=\"age\", y=\"size\")"
   ]
  },
  {
   "cell_type": "markdown",
   "id": "9887fc86-c91e-4ffc-b18a-17cb3bc5b929",
   "metadata": {},
   "source": [
    "Outras funções úteis do Seaborn é o _get_dataset_names_ que retorna todos os datasets que vem junto, por padrão, na instalação do Seaborn"
   ]
  },
  {
   "cell_type": "markdown",
   "id": "552b14c5-24af-40a3-a842-a396320c9ce5",
   "metadata": {},
   "source": [
    "## Datasets padrão"
   ]
  },
  {
   "cell_type": "code",
   "execution_count": 24,
   "id": "2ef61f66-8567-41ce-9d68-d414d745afea",
   "metadata": {},
   "outputs": [
    {
     "data": {
      "text/plain": [
       "['anagrams',\n",
       " 'anscombe',\n",
       " 'attention',\n",
       " 'brain_networks',\n",
       " 'car_crashes',\n",
       " 'diamonds',\n",
       " 'dots',\n",
       " 'exercise',\n",
       " 'flights',\n",
       " 'fmri',\n",
       " 'gammas',\n",
       " 'geyser',\n",
       " 'iris',\n",
       " 'mpg',\n",
       " 'penguins',\n",
       " 'planets',\n",
       " 'tips',\n",
       " 'titanic']"
      ]
     },
     "execution_count": 24,
     "metadata": {},
     "output_type": "execute_result"
    }
   ],
   "source": [
    "sns.get_dataset_names()"
   ]
  },
  {
   "cell_type": "code",
   "execution_count": 25,
   "id": "471ecb26-c6f8-43fd-bbdf-179e55dd8fe6",
   "metadata": {},
   "outputs": [],
   "source": [
    "i = sns.load_dataset('iris')"
   ]
  },
  {
   "cell_type": "code",
   "execution_count": 26,
   "id": "294ee7e0-2208-4906-8d5a-e80e73430005",
   "metadata": {},
   "outputs": [
    {
     "data": {
      "text/html": [
       "<div>\n",
       "<style scoped>\n",
       "    .dataframe tbody tr th:only-of-type {\n",
       "        vertical-align: middle;\n",
       "    }\n",
       "\n",
       "    .dataframe tbody tr th {\n",
       "        vertical-align: top;\n",
       "    }\n",
       "\n",
       "    .dataframe thead th {\n",
       "        text-align: right;\n",
       "    }\n",
       "</style>\n",
       "<table border=\"1\" class=\"dataframe\">\n",
       "  <thead>\n",
       "    <tr style=\"text-align: right;\">\n",
       "      <th></th>\n",
       "      <th>sepal_length</th>\n",
       "      <th>sepal_width</th>\n",
       "      <th>petal_length</th>\n",
       "      <th>petal_width</th>\n",
       "      <th>species</th>\n",
       "    </tr>\n",
       "  </thead>\n",
       "  <tbody>\n",
       "    <tr>\n",
       "      <th>0</th>\n",
       "      <td>5.1</td>\n",
       "      <td>3.5</td>\n",
       "      <td>1.4</td>\n",
       "      <td>0.2</td>\n",
       "      <td>setosa</td>\n",
       "    </tr>\n",
       "    <tr>\n",
       "      <th>1</th>\n",
       "      <td>4.9</td>\n",
       "      <td>3.0</td>\n",
       "      <td>1.4</td>\n",
       "      <td>0.2</td>\n",
       "      <td>setosa</td>\n",
       "    </tr>\n",
       "    <tr>\n",
       "      <th>2</th>\n",
       "      <td>4.7</td>\n",
       "      <td>3.2</td>\n",
       "      <td>1.3</td>\n",
       "      <td>0.2</td>\n",
       "      <td>setosa</td>\n",
       "    </tr>\n",
       "    <tr>\n",
       "      <th>3</th>\n",
       "      <td>4.6</td>\n",
       "      <td>3.1</td>\n",
       "      <td>1.5</td>\n",
       "      <td>0.2</td>\n",
       "      <td>setosa</td>\n",
       "    </tr>\n",
       "    <tr>\n",
       "      <th>4</th>\n",
       "      <td>5.0</td>\n",
       "      <td>3.6</td>\n",
       "      <td>1.4</td>\n",
       "      <td>0.2</td>\n",
       "      <td>setosa</td>\n",
       "    </tr>\n",
       "  </tbody>\n",
       "</table>\n",
       "</div>"
      ],
      "text/plain": [
       "   sepal_length  sepal_width  petal_length  petal_width species\n",
       "0           5.1          3.5           1.4          0.2  setosa\n",
       "1           4.9          3.0           1.4          0.2  setosa\n",
       "2           4.7          3.2           1.3          0.2  setosa\n",
       "3           4.6          3.1           1.5          0.2  setosa\n",
       "4           5.0          3.6           1.4          0.2  setosa"
      ]
     },
     "execution_count": 26,
     "metadata": {},
     "output_type": "execute_result"
    }
   ],
   "source": [
    "i.head()"
   ]
  },
  {
   "cell_type": "code",
   "execution_count": 27,
   "id": "52f518f6-7cdc-4ac3-bc91-7e4aa9ab98f5",
   "metadata": {},
   "outputs": [
    {
     "data": {
      "text/plain": [
       "<AxesSubplot:xlabel='sepal_width', ylabel='sepal_length'>"
      ]
     },
     "execution_count": 27,
     "metadata": {},
     "output_type": "execute_result"
    },
    {
     "data": {
      "image/png": "[encoded data removed]",
      "text/plain": [
       "<Figure size 432x288 with 1 Axes>"
      ]
     },
     "metadata": {
      "needs_background": "light"
     },
     "output_type": "display_data"
    }
   ],
   "source": [
    "sns.scatterplot(data=i, y=\"sepal_length\", x=\"sepal_width\", hue=\"species\", style=\"species\")"
   ]
  }
 ],
 "metadata": {
  "kernelspec": {
   "display_name": "Python 3 (ipykernel)",
   "language": "python",
   "name": "python3"
  },
  "language_info": {
   "codemirror_mode": {
    "name": "ipython",
    "version": 3
   },
   "file_extension": ".py",
   "mimetype": "text/x-python",
   "name": "python",
   "nbconvert_exporter": "python",
   "pygments_lexer": "ipython3",
   "version": "3.9.5"
  }
 },
 "nbformat": 4,
 "nbformat_minor": 5
}
